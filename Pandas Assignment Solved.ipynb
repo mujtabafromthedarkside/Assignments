{
 "cells": [
  {
   "cell_type": "markdown",
   "metadata": {},
   "source": [
    "# PART 1: \n",
    "\n",
    "## HOW TO CLEAN DATA WITH PYTHON\n",
    "### Cleaning US Census Data\n",
    "You just got hired as a Data Analyst at the Census Bureau, which collects census data and creates interesting visualizations and insights from it.\n",
    "\n",
    "The person who had your job before you left you all the data they had for the most recent census. It is in multiple csv files. They didn’t use pandas, they would just look through these csv files manually whenever they wanted to find something. Sometimes they would copy and paste certain numbers into Excel to make charts.\n",
    "\n",
    "The thought of it makes you shiver. This is not scalable or repeatable.\n",
    "\n",
    "Your boss wants you to make some scatterplots and histograms by the end of the day. Can you get this data into pandas and into reasonable shape so that you can make these histograms?\n",
    "\n",
    "#### Inspect the Data!\n"
   ]
  },
  {
   "cell_type": "markdown",
   "metadata": {},
   "source": [
    "1.\n",
    "The first visualization your boss wants you to make is a scatterplot that shows average income in a state vs proportion of women in that state.\n",
    "\n",
    "Open some of the census csv files in the navigator. How are they named? What kind of information do they hold? Will they help us make this graph?"
   ]
  },
  {
   "cell_type": "markdown",
   "metadata": {},
   "source": [
    "2.\n",
    "It will be easier to inspect this data once we have it in a DataFrame. You can’t even call .head() on these csvs! How are you supposed to read them?\n",
    "\n",
    "Using glob, loop through the census files available and load them into DataFrames. Then, concatenate all of those DataFrames together into one DataFrame, called something like us_census."
   ]
  },
  {
   "cell_type": "code",
   "execution_count": 455,
   "metadata": {},
   "outputs": [],
   "source": [
    "import glob\n",
    "import pandas as pd \n",
    "import numpy as np"
   ]
  },
  {
   "cell_type": "code",
   "execution_count": 456,
   "metadata": {},
   "outputs": [
    {
     "data": {
      "text/html": [
       "<div>\n",
       "<style scoped>\n",
       "    .dataframe tbody tr th:only-of-type {\n",
       "        vertical-align: middle;\n",
       "    }\n",
       "\n",
       "    .dataframe tbody tr th {\n",
       "        vertical-align: top;\n",
       "    }\n",
       "\n",
       "    .dataframe thead th {\n",
       "        text-align: right;\n",
       "    }\n",
       "</style>\n",
       "<table border=\"1\" class=\"dataframe\">\n",
       "  <thead>\n",
       "    <tr style=\"text-align: right;\">\n",
       "      <th></th>\n",
       "      <th>Unnamed: 0</th>\n",
       "      <th>State</th>\n",
       "      <th>TotalPop</th>\n",
       "      <th>Hispanic</th>\n",
       "      <th>White</th>\n",
       "      <th>Black</th>\n",
       "      <th>Native</th>\n",
       "      <th>Asian</th>\n",
       "      <th>Pacific</th>\n",
       "      <th>Income</th>\n",
       "      <th>GenderPop</th>\n",
       "    </tr>\n",
       "  </thead>\n",
       "  <tbody>\n",
       "    <tr>\n",
       "      <th>0</th>\n",
       "      <td>0</td>\n",
       "      <td>Alabama</td>\n",
       "      <td>4830620</td>\n",
       "      <td>3.7516156462584975%</td>\n",
       "      <td>61.878656462585%</td>\n",
       "      <td>31.25297619047618%</td>\n",
       "      <td>0.4532312925170065%</td>\n",
       "      <td>1.0502551020408146%</td>\n",
       "      <td>0.03435374149659865%</td>\n",
       "      <td>$43296.35860306644</td>\n",
       "      <td>2341093M_2489527F</td>\n",
       "    </tr>\n",
       "    <tr>\n",
       "      <th>1</th>\n",
       "      <td>1</td>\n",
       "      <td>Alaska</td>\n",
       "      <td>733375</td>\n",
       "      <td>5.909580838323351%</td>\n",
       "      <td>60.910179640718574%</td>\n",
       "      <td>2.8485029940119775%</td>\n",
       "      <td>16.39101796407186%</td>\n",
       "      <td>5.450299401197604%</td>\n",
       "      <td>1.0586826347305378%</td>\n",
       "      <td>$70354.74390243902</td>\n",
       "      <td>384160M_349215F</td>\n",
       "    </tr>\n",
       "    <tr>\n",
       "      <th>2</th>\n",
       "      <td>2</td>\n",
       "      <td>Arizona</td>\n",
       "      <td>6641928</td>\n",
       "      <td>29.565921052631502%</td>\n",
       "      <td>57.120000000000026%</td>\n",
       "      <td>3.8509868421052658%</td>\n",
       "      <td>4.35506578947368%</td>\n",
       "      <td>2.876578947368419%</td>\n",
       "      <td>0.16763157894736833%</td>\n",
       "      <td>$54207.82095490716</td>\n",
       "      <td>3299088M_3342840F</td>\n",
       "    </tr>\n",
       "    <tr>\n",
       "      <th>3</th>\n",
       "      <td>3</td>\n",
       "      <td>Arkansas</td>\n",
       "      <td>2958208</td>\n",
       "      <td>6.215474452554738%</td>\n",
       "      <td>71.13781021897813%</td>\n",
       "      <td>18.968759124087573%</td>\n",
       "      <td>0.5229197080291965%</td>\n",
       "      <td>1.1423357664233578%</td>\n",
       "      <td>0.14686131386861315%</td>\n",
       "      <td>$41935.63396778917</td>\n",
       "      <td>1451913M_1506295F</td>\n",
       "    </tr>\n",
       "    <tr>\n",
       "      <th>4</th>\n",
       "      <td>4</td>\n",
       "      <td>California</td>\n",
       "      <td>38421464</td>\n",
       "      <td>37.291874687968054%</td>\n",
       "      <td>40.21578881677474%</td>\n",
       "      <td>5.677396405391911%</td>\n",
       "      <td>0.40529206190713685%</td>\n",
       "      <td>13.052234148776776%</td>\n",
       "      <td>0.35141038442336353%</td>\n",
       "      <td>$67264.78230266465</td>\n",
       "      <td>19087135M_19334329F</td>\n",
       "    </tr>\n",
       "  </tbody>\n",
       "</table>\n",
       "</div>"
      ],
      "text/plain": [
       "   Unnamed: 0       State  TotalPop             Hispanic                White  \\\n",
       "0           0     Alabama   4830620  3.7516156462584975%     61.878656462585%   \n",
       "1           1      Alaska    733375   5.909580838323351%  60.910179640718574%   \n",
       "2           2     Arizona   6641928  29.565921052631502%  57.120000000000026%   \n",
       "3           3    Arkansas   2958208   6.215474452554738%   71.13781021897813%   \n",
       "4           4  California  38421464  37.291874687968054%   40.21578881677474%   \n",
       "\n",
       "                 Black                Native                Asian  \\\n",
       "0   31.25297619047618%   0.4532312925170065%  1.0502551020408146%   \n",
       "1  2.8485029940119775%    16.39101796407186%   5.450299401197604%   \n",
       "2  3.8509868421052658%     4.35506578947368%   2.876578947368419%   \n",
       "3  18.968759124087573%   0.5229197080291965%  1.1423357664233578%   \n",
       "4   5.677396405391911%  0.40529206190713685%  13.052234148776776%   \n",
       "\n",
       "                Pacific              Income            GenderPop  \n",
       "0  0.03435374149659865%  $43296.35860306644    2341093M_2489527F  \n",
       "1   1.0586826347305378%  $70354.74390243902      384160M_349215F  \n",
       "2  0.16763157894736833%  $54207.82095490716    3299088M_3342840F  \n",
       "3  0.14686131386861315%  $41935.63396778917    1451913M_1506295F  \n",
       "4  0.35141038442336353%  $67264.78230266465  19087135M_19334329F  "
      ]
     },
     "execution_count": 456,
     "metadata": {},
     "output_type": "execute_result"
    }
   ],
   "source": [
    "us_census = pd.DataFrame([])\n",
    "\n",
    "for csv_file in glob.glob('Assignment/states*'):\n",
    "   us_census = pd.concat( ( us_census , pd.read_csv(str(csv_file)) ) , ignore_index = True)\n",
    "us_census.head()"
   ]
  },
  {
   "cell_type": "code",
   "execution_count": 457,
   "metadata": {},
   "outputs": [],
   "source": [
    "us_census = us_census.drop(us_census.columns[0], axis = 1)"
   ]
  },
  {
   "cell_type": "code",
   "execution_count": null,
   "metadata": {},
   "outputs": [],
   "source": []
  },
  {
   "cell_type": "markdown",
   "metadata": {},
   "source": [
    "3.\n",
    "Look at the .columns and the .dtypes of the us_census DataFrame. Are those datatypes going to hinder you as you try to make histograms?"
   ]
  },
  {
   "cell_type": "code",
   "execution_count": 458,
   "metadata": {},
   "outputs": [
    {
     "data": {
      "text/plain": [
       "Index(['State', 'TotalPop', 'Hispanic', 'White', 'Black', 'Native', 'Asian',\n",
       "       'Pacific', 'Income', 'GenderPop'],\n",
       "      dtype='object')"
      ]
     },
     "execution_count": 458,
     "metadata": {},
     "output_type": "execute_result"
    }
   ],
   "source": [
    "us_census.columns"
   ]
  },
  {
   "cell_type": "code",
   "execution_count": 459,
   "metadata": {},
   "outputs": [
    {
     "data": {
      "text/plain": [
       "State        object\n",
       "TotalPop      int64\n",
       "Hispanic     object\n",
       "White        object\n",
       "Black        object\n",
       "Native       object\n",
       "Asian        object\n",
       "Pacific      object\n",
       "Income       object\n",
       "GenderPop    object\n",
       "dtype: object"
      ]
     },
     "execution_count": 459,
     "metadata": {},
     "output_type": "execute_result"
    }
   ],
   "source": [
    "us_census.dtypes"
   ]
  },
  {
   "cell_type": "markdown",
   "metadata": {},
   "source": [
    "4.\n",
    "Look at the .head() of the DataFrame so that you can understand why some of these dtypes are objects instead of integers or floats.\n",
    "\n",
    "Start to make a plan for how to convert these columns into the right types for manipulation."
   ]
  },
  {
   "cell_type": "code",
   "execution_count": 460,
   "metadata": {},
   "outputs": [
    {
     "data": {
      "text/html": [
       "<div>\n",
       "<style scoped>\n",
       "    .dataframe tbody tr th:only-of-type {\n",
       "        vertical-align: middle;\n",
       "    }\n",
       "\n",
       "    .dataframe tbody tr th {\n",
       "        vertical-align: top;\n",
       "    }\n",
       "\n",
       "    .dataframe thead th {\n",
       "        text-align: right;\n",
       "    }\n",
       "</style>\n",
       "<table border=\"1\" class=\"dataframe\">\n",
       "  <thead>\n",
       "    <tr style=\"text-align: right;\">\n",
       "      <th></th>\n",
       "      <th>State</th>\n",
       "      <th>TotalPop</th>\n",
       "      <th>Hispanic</th>\n",
       "      <th>White</th>\n",
       "      <th>Black</th>\n",
       "      <th>Native</th>\n",
       "      <th>Asian</th>\n",
       "      <th>Pacific</th>\n",
       "      <th>Income</th>\n",
       "      <th>GenderPop</th>\n",
       "    </tr>\n",
       "  </thead>\n",
       "  <tbody>\n",
       "    <tr>\n",
       "      <th>0</th>\n",
       "      <td>Alabama</td>\n",
       "      <td>4830620</td>\n",
       "      <td>3.7516156462584975%</td>\n",
       "      <td>61.878656462585%</td>\n",
       "      <td>31.25297619047618%</td>\n",
       "      <td>0.4532312925170065%</td>\n",
       "      <td>1.0502551020408146%</td>\n",
       "      <td>0.03435374149659865%</td>\n",
       "      <td>$43296.35860306644</td>\n",
       "      <td>2341093M_2489527F</td>\n",
       "    </tr>\n",
       "    <tr>\n",
       "      <th>1</th>\n",
       "      <td>Alaska</td>\n",
       "      <td>733375</td>\n",
       "      <td>5.909580838323351%</td>\n",
       "      <td>60.910179640718574%</td>\n",
       "      <td>2.8485029940119775%</td>\n",
       "      <td>16.39101796407186%</td>\n",
       "      <td>5.450299401197604%</td>\n",
       "      <td>1.0586826347305378%</td>\n",
       "      <td>$70354.74390243902</td>\n",
       "      <td>384160M_349215F</td>\n",
       "    </tr>\n",
       "    <tr>\n",
       "      <th>2</th>\n",
       "      <td>Arizona</td>\n",
       "      <td>6641928</td>\n",
       "      <td>29.565921052631502%</td>\n",
       "      <td>57.120000000000026%</td>\n",
       "      <td>3.8509868421052658%</td>\n",
       "      <td>4.35506578947368%</td>\n",
       "      <td>2.876578947368419%</td>\n",
       "      <td>0.16763157894736833%</td>\n",
       "      <td>$54207.82095490716</td>\n",
       "      <td>3299088M_3342840F</td>\n",
       "    </tr>\n",
       "    <tr>\n",
       "      <th>3</th>\n",
       "      <td>Arkansas</td>\n",
       "      <td>2958208</td>\n",
       "      <td>6.215474452554738%</td>\n",
       "      <td>71.13781021897813%</td>\n",
       "      <td>18.968759124087573%</td>\n",
       "      <td>0.5229197080291965%</td>\n",
       "      <td>1.1423357664233578%</td>\n",
       "      <td>0.14686131386861315%</td>\n",
       "      <td>$41935.63396778917</td>\n",
       "      <td>1451913M_1506295F</td>\n",
       "    </tr>\n",
       "    <tr>\n",
       "      <th>4</th>\n",
       "      <td>California</td>\n",
       "      <td>38421464</td>\n",
       "      <td>37.291874687968054%</td>\n",
       "      <td>40.21578881677474%</td>\n",
       "      <td>5.677396405391911%</td>\n",
       "      <td>0.40529206190713685%</td>\n",
       "      <td>13.052234148776776%</td>\n",
       "      <td>0.35141038442336353%</td>\n",
       "      <td>$67264.78230266465</td>\n",
       "      <td>19087135M_19334329F</td>\n",
       "    </tr>\n",
       "  </tbody>\n",
       "</table>\n",
       "</div>"
      ],
      "text/plain": [
       "        State  TotalPop             Hispanic                White  \\\n",
       "0     Alabama   4830620  3.7516156462584975%     61.878656462585%   \n",
       "1      Alaska    733375   5.909580838323351%  60.910179640718574%   \n",
       "2     Arizona   6641928  29.565921052631502%  57.120000000000026%   \n",
       "3    Arkansas   2958208   6.215474452554738%   71.13781021897813%   \n",
       "4  California  38421464  37.291874687968054%   40.21578881677474%   \n",
       "\n",
       "                 Black                Native                Asian  \\\n",
       "0   31.25297619047618%   0.4532312925170065%  1.0502551020408146%   \n",
       "1  2.8485029940119775%    16.39101796407186%   5.450299401197604%   \n",
       "2  3.8509868421052658%     4.35506578947368%   2.876578947368419%   \n",
       "3  18.968759124087573%   0.5229197080291965%  1.1423357664233578%   \n",
       "4   5.677396405391911%  0.40529206190713685%  13.052234148776776%   \n",
       "\n",
       "                Pacific              Income            GenderPop  \n",
       "0  0.03435374149659865%  $43296.35860306644    2341093M_2489527F  \n",
       "1   1.0586826347305378%  $70354.74390243902      384160M_349215F  \n",
       "2  0.16763157894736833%  $54207.82095490716    3299088M_3342840F  \n",
       "3  0.14686131386861315%  $41935.63396778917    1451913M_1506295F  \n",
       "4  0.35141038442336353%  $67264.78230266465  19087135M_19334329F  "
      ]
     },
     "execution_count": 460,
     "metadata": {},
     "output_type": "execute_result"
    }
   ],
   "source": [
    "us_census.head()"
   ]
  },
  {
   "cell_type": "markdown",
   "metadata": {},
   "source": [
    "REgex to the rescue\n",
    "5.\n",
    "Use regex to turn the Income column into a format that is ready for conversion into a numerical type.\n"
   ]
  },
  {
   "cell_type": "code",
   "execution_count": 461,
   "metadata": {},
   "outputs": [],
   "source": [
    "import re\n",
    "\n",
    "pattern = re.compile(r'[$]')\n",
    "\n",
    "us_census['Income'] = us_census['Income'].str.replace(pattern , '')"
   ]
  },
  {
   "cell_type": "code",
   "execution_count": 462,
   "metadata": {},
   "outputs": [],
   "source": [
    "us_census['Income'] = pd.to_numeric(us_census['Income'])"
   ]
  },
  {
   "cell_type": "markdown",
   "metadata": {},
   "source": [
    "6.\n",
    "Look at the GenderPop column. We are going to want to separate this into two columns, the Men column, and the Women column.\n",
    "\n",
    "Split the column into those two new columns using str.split and separating out those results.\n"
   ]
  },
  {
   "cell_type": "code",
   "execution_count": 463,
   "metadata": {},
   "outputs": [],
   "source": [
    "us_census[['Men' , 'Women']] = us_census['GenderPop'].str.split('_', expand = True)"
   ]
  },
  {
   "cell_type": "code",
   "execution_count": 464,
   "metadata": {},
   "outputs": [],
   "source": [
    "us_census.drop('GenderPop' , axis = 1 , inplace = True)"
   ]
  },
  {
   "cell_type": "markdown",
   "metadata": {},
   "source": [
    "7.\n",
    "Convert both of the columns into numerical datatypes.\n",
    "\n",
    "There is still an M or an F character in each entry! We should remove those before we convert."
   ]
  },
  {
   "cell_type": "code",
   "execution_count": 465,
   "metadata": {},
   "outputs": [],
   "source": [
    "us_census['Men'] = us_census['Men'].str.replace('M' , '')\n",
    "us_census['Women'] = us_census['Women'].str.replace('F' , '')"
   ]
  },
  {
   "cell_type": "code",
   "execution_count": 466,
   "metadata": {},
   "outputs": [],
   "source": [
    "us_census['Men'] = pd.to_numeric(us_census['Men'])\n",
    "us_census['Women'] = pd.to_numeric(us_census['Women'])"
   ]
  },
  {
   "cell_type": "markdown",
   "metadata": {},
   "source": [
    "8.\n",
    "Now you should have the columns you need to make the graph and make sure your boss does not slam a ruler angrily on your desk because you’ve wasted your whole day cleaning your data with no results to show!\n",
    "\n",
    "Use matplotlib to make a scatterplot!\n",
    "\n",
    "plt.scatter(the_women_column, the_income_column) \n",
    "Remember to call plt.show() to see the graph!"
   ]
  },
  {
   "cell_type": "code",
   "execution_count": 467,
   "metadata": {},
   "outputs": [],
   "source": [
    "import matplotlib.pyplot as plt"
   ]
  },
  {
   "cell_type": "code",
   "execution_count": 468,
   "metadata": {},
   "outputs": [
    {
     "data": {
      "image/png": "[encoded data removed]",
      "text/plain": [
       "<Figure size 432x288 with 1 Axes>"
      ]
     },
     "metadata": {
      "needs_background": "light"
     },
     "output_type": "display_data"
    }
   ],
   "source": [
    "plt.scatter(us_census['Women'] , us_census['Income'])\n",
    "plt.xlabel('Number of Women')\n",
    "plt.ylabel('Income')\n",
    "plt.show()"
   ]
  },
  {
   "cell_type": "markdown",
   "metadata": {},
   "source": [
    "9.\n",
    "Did you get an error? These monstrous csv files probably have nan values in them! Print out your column with the number of women per state to see.\n",
    "\n",
    "We can fill in those nans by using pandas’ .fillna() function.\n",
    "\n",
    "You have the TotalPop per state, and you have the Men per state. As an estimate for the nan values in the Women column, you could use the TotalPop of that state minus the Men for that state.\n",
    "\n",
    "Print out the Women column after filling the nan values to see if it worked!"
   ]
  },
  {
   "cell_type": "code",
   "execution_count": 469,
   "metadata": {},
   "outputs": [],
   "source": [
    "us_census['Women'].fillna(us_census['TotalPop'] - us_census['Men'], axis = 0 , inplace = True)"
   ]
  },
  {
   "cell_type": "code",
   "execution_count": 470,
   "metadata": {},
   "outputs": [
    {
     "data": {
      "text/plain": [
       "0      2489527.0\n",
       "1       349215.0\n",
       "2      3342840.0\n",
       "3      1506295.0\n",
       "4     19334329.0\n",
       "5      2630239.0\n",
       "6      2630239.0\n",
       "7      1841615.0\n",
       "8       478041.0\n",
       "9       340810.0\n",
       "10    10045763.0\n",
       "11     5123362.0\n",
       "12     5123362.0\n",
       "13      696428.0\n",
       "14      806083.0\n",
       "15     6556862.0\n",
       "16     3333382.0\n",
       "17     1558931.0\n",
       "18     1558931.0\n",
       "19     1453125.0\n",
       "20     2233145.0\n",
       "21     2364097.0\n",
       "22      679019.0\n",
       "23     3057895.0\n",
       "24     3057895.0\n",
       "25     3455936.0\n",
       "26     5038598.0\n",
       "27     2727005.0\n",
       "28     1536358.0\n",
       "29     3081445.0\n",
       "30     3081445.0\n",
       "31      504536.0\n",
       "32      939759.0\n",
       "33     1390901.0\n",
       "34      670717.0\n",
       "35     4561386.0\n",
       "36     4561386.0\n",
       "37     1051703.0\n",
       "38    10131373.0\n",
       "39     5049925.0\n",
       "40      353677.0\n",
       "41     5913084.0\n",
       "42     5913084.0\n",
       "43     1942789.0\n",
       "44     1990780.0\n",
       "45     6534215.0\n",
       "46     1869213.0\n",
       "47      543273.0\n",
       "48      543273.0\n",
       "49     2455167.0\n",
       "50      419713.0\n",
       "51     3331859.0\n",
       "52    13367298.0\n",
       "53     1444150.0\n",
       "54     1444150.0\n",
       "55      318031.0\n",
       "56     4195682.0\n",
       "57     3497739.0\n",
       "58      937789.0\n",
       "59     2890732.0\n",
       "Name: Women, dtype: float64"
      ]
     },
     "execution_count": 470,
     "metadata": {},
     "output_type": "execute_result"
    }
   ],
   "source": [
    "us_census['Women']"
   ]
  },
  {
   "cell_type": "markdown",
   "metadata": {},
   "source": [
    "10.\n",
    "We forgot to check for duplicates! Use .duplicated() on your census DataFrame to see if we have duplicate rows in there."
   ]
  },
  {
   "cell_type": "code",
   "execution_count": 471,
   "metadata": {},
   "outputs": [
    {
     "data": {
      "text/plain": [
       "0     False\n",
       "1     False\n",
       "2     False\n",
       "3     False\n",
       "4     False\n",
       "5     False\n",
       "6      True\n",
       "7     False\n",
       "8     False\n",
       "9     False\n",
       "10    False\n",
       "11    False\n",
       "12     True\n",
       "13    False\n",
       "14    False\n",
       "15    False\n",
       "16    False\n",
       "17    False\n",
       "18     True\n",
       "19    False\n",
       "20    False\n",
       "21    False\n",
       "22    False\n",
       "23    False\n",
       "24     True\n",
       "25    False\n",
       "26    False\n",
       "27    False\n",
       "28    False\n",
       "29    False\n",
       "30     True\n",
       "31    False\n",
       "32    False\n",
       "33    False\n",
       "34    False\n",
       "35    False\n",
       "36     True\n",
       "37    False\n",
       "38    False\n",
       "39    False\n",
       "40    False\n",
       "41    False\n",
       "42     True\n",
       "43    False\n",
       "44    False\n",
       "45    False\n",
       "46    False\n",
       "47    False\n",
       "48     True\n",
       "49    False\n",
       "50    False\n",
       "51    False\n",
       "52    False\n",
       "53    False\n",
       "54     True\n",
       "55    False\n",
       "56    False\n",
       "57    False\n",
       "58    False\n",
       "59    False\n",
       "dtype: bool"
      ]
     },
     "execution_count": 471,
     "metadata": {},
     "output_type": "execute_result"
    }
   ],
   "source": [
    "us_census.duplicated()"
   ]
  },
  {
   "cell_type": "markdown",
   "metadata": {},
   "source": [
    "11.\n",
    "Drop those duplicates using the .drop_duplicates() function."
   ]
  },
  {
   "cell_type": "code",
   "execution_count": 472,
   "metadata": {},
   "outputs": [],
   "source": [
    "us_census.drop_duplicates(ignore_index = True, inplace = True)"
   ]
  },
  {
   "cell_type": "markdown",
   "metadata": {},
   "source": [
    "12.\n",
    "Make the scatterplot again. Now, it should be perfect! Your job is secure, for now.\n"
   ]
  },
  {
   "cell_type": "code",
   "execution_count": 473,
   "metadata": {},
   "outputs": [
    {
     "data": {
      "image/png": "[encoded data removed]",
      "text/plain": [
       "<Figure size 432x288 with 1 Axes>"
      ]
     },
     "metadata": {
      "needs_background": "light"
     },
     "output_type": "display_data"
    }
   ],
   "source": [
    "plt.clf()\n",
    "\n",
    "plt.scatter(us_census['Women'] , us_census['Income'])\n",
    "plt.xlabel('Number of Women')\n",
    "plt.ylabel('Income')\n",
    "plt.show()"
   ]
  },
  {
   "cell_type": "markdown",
   "metadata": {},
   "source": [
    "### Histograms of Races\n",
    "13.\n",
    "Now, your boss wants you to make a bunch of histograms out of the race data that you have. Look at the .columns again to see what the race categories are."
   ]
  },
  {
   "cell_type": "code",
   "execution_count": 474,
   "metadata": {},
   "outputs": [
    {
     "data": {
      "text/plain": [
       "Index(['State', 'TotalPop', 'Hispanic', 'White', 'Black', 'Native', 'Asian',\n",
       "       'Pacific', 'Income', 'Men', 'Women'],\n",
       "      dtype='object')"
      ]
     },
     "execution_count": 474,
     "metadata": {},
     "output_type": "execute_result"
    }
   ],
   "source": [
    "us_census.columns"
   ]
  },
  {
   "cell_type": "markdown",
   "metadata": {},
   "source": [
    "14.\n",
    "Try to make a histogram for each one!\n",
    "\n",
    "You will have to get the columns into numerical format, and those percentage signs will have to go.\n",
    "\n",
    "Don’t forget to fill the nan values with something that makes sense! You probably dropped the duplicate rows when making your last graph, but it couldn’t hurt to check for duplicates again."
   ]
  },
  {
   "cell_type": "code",
   "execution_count": 475,
   "metadata": {},
   "outputs": [
    {
     "data": {
      "text/plain": [
       "State       False\n",
       "TotalPop    False\n",
       "Hispanic    False\n",
       "White       False\n",
       "Black       False\n",
       "Native      False\n",
       "Asian       False\n",
       "Pacific      True\n",
       "Income      False\n",
       "Men         False\n",
       "Women       False\n",
       "dtype: bool"
      ]
     },
     "execution_count": 475,
     "metadata": {},
     "output_type": "execute_result"
    }
   ],
   "source": [
    "us_census.isna().any()"
   ]
  },
  {
   "cell_type": "code",
   "execution_count": 476,
   "metadata": {},
   "outputs": [],
   "source": [
    "us_census['Pacific'].fillna(0 , inplace = True)"
   ]
  },
  {
   "cell_type": "code",
   "execution_count": 477,
   "metadata": {},
   "outputs": [],
   "source": [
    "us_census = us_census.replace('%' , '', regex = True)"
   ]
  },
  {
   "cell_type": "code",
   "execution_count": 478,
   "metadata": {},
   "outputs": [],
   "source": [
    "us_census.loc[:,'Hispanic' : 'Pacific' ] = us_census.loc[:,'Hispanic' : 'Pacific'].apply(pd.to_numeric)"
   ]
  },
  {
   "cell_type": "code",
   "execution_count": 479,
   "metadata": {},
   "outputs": [],
   "source": [
    "# since our numbers in race columns were percentages of total population, we multiply them by total population and divide by 100\n",
    "\n",
    "us_census.loc[:,'Hispanic' : 'Pacific' ] = us_census.loc[:,'Hispanic' : 'Pacific'].apply(lambda x : x*us_census['TotalPop']/100)"
   ]
  },
  {
   "cell_type": "code",
   "execution_count": 480,
   "metadata": {},
   "outputs": [
    {
     "data": {
      "text/plain": [
       "State        object\n",
       "TotalPop      int64\n",
       "Hispanic    float64\n",
       "White       float64\n",
       "Black       float64\n",
       "Native      float64\n",
       "Asian       float64\n",
       "Pacific     float64\n",
       "Income      float64\n",
       "Men           int64\n",
       "Women       float64\n",
       "dtype: object"
      ]
     },
     "execution_count": 480,
     "metadata": {},
     "output_type": "execute_result"
    }
   ],
   "source": [
    "us_census.dtypes"
   ]
  },
  {
   "cell_type": "code",
   "execution_count": 481,
   "metadata": {},
   "outputs": [
    {
     "data": {
      "text/plain": [
       "0     False\n",
       "1     False\n",
       "2     False\n",
       "3     False\n",
       "4     False\n",
       "5     False\n",
       "6     False\n",
       "7     False\n",
       "8     False\n",
       "9     False\n",
       "10    False\n",
       "11    False\n",
       "12    False\n",
       "13    False\n",
       "14    False\n",
       "15    False\n",
       "16    False\n",
       "17    False\n",
       "18    False\n",
       "19    False\n",
       "20    False\n",
       "21    False\n",
       "22    False\n",
       "23    False\n",
       "24    False\n",
       "25    False\n",
       "26    False\n",
       "27    False\n",
       "28    False\n",
       "29    False\n",
       "30    False\n",
       "31    False\n",
       "32    False\n",
       "33    False\n",
       "34    False\n",
       "35    False\n",
       "36    False\n",
       "37    False\n",
       "38    False\n",
       "39    False\n",
       "40    False\n",
       "41    False\n",
       "42    False\n",
       "43    False\n",
       "44    False\n",
       "45    False\n",
       "46    False\n",
       "47    False\n",
       "48    False\n",
       "49    False\n",
       "50    False\n",
       "dtype: bool"
      ]
     },
     "execution_count": 481,
     "metadata": {},
     "output_type": "execute_result"
    }
   ],
   "source": [
    "us_census.duplicated()"
   ]
  },
  {
   "cell_type": "code",
   "execution_count": 482,
   "metadata": {},
   "outputs": [
    {
     "data": {
      "text/plain": [
       "Text(0, 0.5, 'Number of States')"
      ]
     },
     "execution_count": 482,
     "metadata": {},
     "output_type": "execute_result"
    },
    {
     "data": {
      "image/png": "[encoded data removed]",
      "text/plain": [
       "<Figure size 432x288 with 1 Axes>"
      ]
     },
     "metadata": {
      "needs_background": "light"
     },
     "output_type": "display_data"
    }
   ],
   "source": [
    "plt.clf()\n",
    "\n",
    "plt.hist(us_census['Black'] , bins = 20) \n",
    "\n",
    "plt.xlabel('Black population') \n",
    "plt.ylabel('Number of States')"
   ]
  },
  {
   "cell_type": "code",
   "execution_count": 483,
   "metadata": {},
   "outputs": [
    {
     "data": {
      "text/plain": [
       "Text(0, 0.5, 'Number of States')"
      ]
     },
     "execution_count": 483,
     "metadata": {},
     "output_type": "execute_result"
    },
    {
     "data": {
      "image/png": "[encoded data removed]",
      "text/plain": [
       "<Figure size 432x288 with 1 Axes>"
      ]
     },
     "metadata": {
      "needs_background": "light"
     },
     "output_type": "display_data"
    }
   ],
   "source": [
    "plt.clf()\n",
    "\n",
    "plt.hist(us_census['Native'] , bins = 20) \n",
    "\n",
    "plt.xlabel('Native population') \n",
    "plt.ylabel('Number of States')"
   ]
  },
  {
   "cell_type": "code",
   "execution_count": 484,
   "metadata": {},
   "outputs": [
    {
     "data": {
      "text/plain": [
       "Text(0, 0.5, 'Number of States')"
      ]
     },
     "execution_count": 484,
     "metadata": {},
     "output_type": "execute_result"
    },
    {
     "data": {
      "image/png": "[encoded data removed]",
      "text/plain": [
       "<Figure size 432x288 with 1 Axes>"
      ]
     },
     "metadata": {
      "needs_background": "light"
     },
     "output_type": "display_data"
    }
   ],
   "source": [
    "plt.clf()\n",
    "\n",
    "plt.hist(us_census['Pacific'] , bins = 20) \n",
    "\n",
    "plt.xlabel('Pacific population') \n",
    "plt.ylabel('Number of States')"
   ]
  },
  {
   "cell_type": "code",
   "execution_count": 485,
   "metadata": {},
   "outputs": [
    {
     "data": {
      "text/plain": [
       "Text(0, 0.5, 'Number of States')"
      ]
     },
     "execution_count": 485,
     "metadata": {},
     "output_type": "execute_result"
    },
    {
     "data": {
      "image/png": "[encoded data removed]",
      "text/plain": [
       "<Figure size 432x288 with 1 Axes>"
      ]
     },
     "metadata": {
      "needs_background": "light"
     },
     "output_type": "display_data"
    }
   ],
   "source": [
    "plt.clf()\n",
    "\n",
    "plt.hist(us_census['Hispanic'] , bins = 20) \n",
    "\n",
    "plt.xlabel('Hispanic population') \n",
    "plt.ylabel('Number of States')"
   ]
  },
  {
   "cell_type": "code",
   "execution_count": 486,
   "metadata": {},
   "outputs": [
    {
     "data": {
      "text/plain": [
       "Text(0, 0.5, 'Number of States')"
      ]
     },
     "execution_count": 486,
     "metadata": {},
     "output_type": "execute_result"
    },
    {
     "data": {
      "image/png": "[encoded data removed]",
      "text/plain": [
       "<Figure size 432x288 with 1 Axes>"
      ]
     },
     "metadata": {
      "needs_background": "light"
     },
     "output_type": "display_data"
    }
   ],
   "source": [
    "plt.clf()\n",
    "\n",
    "plt.hist(us_census['White'] , bins = 20) \n",
    "\n",
    "plt.xlabel('White population') \n",
    "plt.ylabel('Number of States')"
   ]
  },
  {
   "cell_type": "code",
   "execution_count": 487,
   "metadata": {},
   "outputs": [
    {
     "data": {
      "text/plain": [
       "Text(0, 0.5, 'Number of States')"
      ]
     },
     "execution_count": 487,
     "metadata": {},
     "output_type": "execute_result"
    },
    {
     "data": {
      "image/png": "[encoded data removed]",
      "text/plain": [
       "<Figure size 432x288 with 1 Axes>"
      ]
     },
     "metadata": {
      "needs_background": "light"
     },
     "output_type": "display_data"
    }
   ],
   "source": [
    "plt.clf()\n",
    "\n",
    "plt.hist(us_census['Asian'] , bins = 20) \n",
    "\n",
    "plt.xlabel('Asian population') \n",
    "plt.ylabel('Number of States')"
   ]
  },
  {
   "cell_type": "markdown",
   "metadata": {},
   "source": [
    "### Get Creative\n",
    "15.\n",
    "Phew. You’ve definitely impressed your boss on your first day of work.\n",
    "\n",
    "But is there a way you really convey the power of pandas and Python over the drudgery of csv and Excel?\n",
    "\n",
    "Try to make some more interesting graphs to show your boss, and the world! You may need to clean the data even more to do it, or the cleaning you have already done may give you the ease of manipulation you’ve been searching for."
   ]
  },
  {
   "cell_type": "code",
   "execution_count": 488,
   "metadata": {},
   "outputs": [
    {
     "data": {
      "text/plain": [
       "Index(['State', 'TotalPop', 'Hispanic', 'White', 'Black', 'Native', 'Asian',\n",
       "       'Pacific', 'Income', 'Men', 'Women'],\n",
       "      dtype='object')"
      ]
     },
     "execution_count": 488,
     "metadata": {},
     "output_type": "execute_result"
    }
   ],
   "source": [
    "us_census.columns"
   ]
  },
  {
   "cell_type": "code",
   "execution_count": 489,
   "metadata": {},
   "outputs": [],
   "source": [
    "Black = us_census['Black']\n",
    "White = us_census['White']\n",
    "Native = us_census['Native']\n",
    "Pacific = us_census['Pacific']\n",
    "Asian = us_census['Asian']\n",
    "Hispanic = us_census['Hispanic']\n",
    "Men = us_census['Men']\n",
    "Women = us_census['Women'] \n",
    "Income = us_census['Income']\n",
    "States = us_census['State']\n",
    "Pop = us_census['TotalPop']"
   ]
  },
  {
   "cell_type": "code",
   "execution_count": 490,
   "metadata": {},
   "outputs": [
    {
     "data": {
      "image/png": "[encoded data removed]",
      "text/plain": [
       "<Figure size 432x288 with 1 Axes>"
      ]
     },
     "metadata": {
      "needs_background": "light"
     },
     "output_type": "display_data"
    }
   ],
   "source": [
    "# Comparing Populations of Men & Women in all the states:\n",
    "\n",
    "plt.clf()\n",
    "\n",
    "states_index = range(1, len(States) + 1)\n",
    "\n",
    "plt.plot(states_index , Men , 'bo' , label = \"Men population\")\n",
    "plt.plot(states_index , Women, 'ro' , label = \"Women population\")\n",
    "plt.title('Gender population state-wise comparison')\n",
    "plt.xlabel('States from 1 to 50')\n",
    "plt.ylabel('Population')\n",
    "plt.legend()\n",
    "\n",
    "plt.show()"
   ]
  },
  {
   "cell_type": "code",
   "execution_count": 491,
   "metadata": {},
   "outputs": [
    {
     "data": {
      "image/png": "[encoded data removed]",
      "text/plain": [
       "<Figure size 432x288 with 1 Axes>"
      ]
     },
     "metadata": {
      "needs_background": "light"
     },
     "output_type": "display_data"
    }
   ],
   "source": [
    "# Comparing number of people of different ethnicities in all states\n",
    "\n",
    "plt.clf()\n",
    "\n",
    "plt.plot(states_index , Black , 'bo' , label = 'Black')\n",
    "plt.plot(states_index , White, 'ro' , label = 'White')\n",
    "plt.plot(states_index , Hispanic , 'yo' , label = 'Hispanic')\n",
    "plt.plot(states_index , Asian, 'go' , label = 'Asian')\n",
    "plt.plot(states_index , Pacific , 'm.' , label = 'Pacific')\n",
    "plt.plot(states_index , Native, 'k.' , label = 'Native')\n",
    "\n",
    "plt.title('Different Ethnicities State-wise population comparison')\n",
    "plt.xlabel('States alphabetically ordered 1 to 50')\n",
    "plt.ylabel('Population')\n",
    "plt.legend()\n",
    "\n",
    "plt.show()"
   ]
  },
  {
   "cell_type": "code",
   "execution_count": 492,
   "metadata": {},
   "outputs": [
    {
     "data": {
      "image/png": "[encoded data removed]",
      "text/plain": [
       "<Figure size 432x288 with 1 Axes>"
      ]
     },
     "metadata": {
      "needs_background": "light"
     },
     "output_type": "display_data"
    }
   ],
   "source": [
    "plt.clf()\n",
    "\n",
    "plt.plot(states_index , Black , 'bo' , label = 'Black')\n",
    "plt.plot(states_index , White, 'ro' , label = 'White')\n",
    "plt.plot(states_index , Hispanic , 'yo' , label = 'Hispanic')\n",
    "plt.plot(states_index , Asian, 'g.' , label = 'Asian')\n",
    "plt.plot(states_index , Pacific , 'm.' , label = 'Pacific')\n",
    "plt.plot(states_index , Native, 'k.' , label = 'Native')\n",
    "plt.plot(states_index  , Pop , ':m' , label = 'Total Population')\n",
    "\n",
    "plt.title('Different Ethnicities State-wise population comparison')\n",
    "plt.xlabel('States alphabetically ordered 1 to 50')\n",
    "plt.ylabel('Population')\n",
    "plt.legend()\n",
    "\n",
    "plt.show()"
   ]
  },
  {
   "cell_type": "code",
   "execution_count": 493,
   "metadata": {},
   "outputs": [
    {
     "data": {
      "image/png": "[encoded data removed]",
      "text/plain": [
       "<Figure size 432x288 with 1 Axes>"
      ]
     },
     "metadata": {
      "needs_background": "light"
     },
     "output_type": "display_data"
    }
   ],
   "source": [
    "plt.clf()\n",
    "\n",
    "plt.plot(states_index , Black , 'bo' , label = 'Black')\n",
    "plt.plot(states_index , White, 'ro' , label = 'White')\n",
    "plt.plot(states_index , Hispanic , 'y.' , label = 'Hispanic')\n",
    "plt.plot(states_index , Pop , ':g' , label = 'Total Populaton')\n",
    "\n",
    "plt.title('Diff. Ethnicities State-wise population comparison')\n",
    "plt.xlabel('States alphabetically ordered 1 to 50')\n",
    "plt.ylabel('Population')\n",
    "plt.legend()\n",
    "\n",
    "plt.show()"
   ]
  },
  {
   "cell_type": "code",
   "execution_count": 494,
   "metadata": {},
   "outputs": [
    {
     "data": {
      "image/png": "[encoded data removed]",
      "text/plain": [
       "<Figure size 432x288 with 1 Axes>"
      ]
     },
     "metadata": {
      "needs_background": "light"
     },
     "output_type": "display_data"
    }
   ],
   "source": [
    "plt.clf()\n",
    "\n",
    "\n",
    "plt.plot(states_index , Pacific , 'mo' , label = 'Pacific')\n",
    "plt.plot(states_index , Native, 'ko' , label = 'Native')\n",
    "\n",
    "plt.title('Different Ethnicities State-wise population comparison')\n",
    "plt.xlabel('States alphabetically ordered 1 to 50')\n",
    "plt.ylabel('Population')\n",
    "plt.legend()\n",
    "\n",
    "plt.show()"
   ]
  },
  {
   "cell_type": "code",
   "execution_count": 495,
   "metadata": {},
   "outputs": [
    {
     "data": {
      "image/png": "[encoded data removed]",
      "text/plain": [
       "<Figure size 432x288 with 1 Axes>"
      ]
     },
     "metadata": {
      "needs_background": "light"
     },
     "output_type": "display_data"
    }
   ],
   "source": [
    "# Comparing populations of Blacks , Whites and Hispanics in first 5 states:\n",
    "\n",
    "plt.clf()\n",
    "\n",
    "plt.plot(States[:5], White[:5], 'b' , label = 'White')\n",
    "plt.plot(States[:5], Black[:5], 'k' , label = 'Black')\n",
    "plt.plot(States[:5], Hispanic[:5] , 'r' , label = 'Hispanic')\n",
    "plt.plot(State[:5] , Pop[:5] , '--g' , label = 'Total Pop' )\n",
    "plt.title('White vs Black vs Hispanic State-wise Population Comparison')\n",
    "plt.xlabel('States First 5')\n",
    "plt.ylabel('Population')\n",
    "plt.legend()\n",
    "\n",
    "plt.show()"
   ]
  },
  {
   "cell_type": "code",
   "execution_count": 496,
   "metadata": {},
   "outputs": [
    {
     "data": {
      "image/png": "[encoded data removed]",
      "text/plain": [
       "<Figure size 432x288 with 1 Axes>"
      ]
     },
     "metadata": {
      "needs_background": "light"
     },
     "output_type": "display_data"
    }
   ],
   "source": [
    "plt.clf()\n",
    "\n",
    "plt.plot(states_index , Black , 'b' , label = 'Black')\n",
    "plt.plot(states_index , White, 'r' , label = 'White')\n",
    "plt.plot(states_index , Hispanic , 'y' , label = 'Hispanic')\n",
    "plt.plot(states_index , Asian, 'g' , label = 'Asian')\n",
    "plt.plot(states_index , Pacific , 'm' , label = 'Pacific')\n",
    "plt.plot(states_index , Native, 'c' , label = 'Native')\n",
    "plt.plot(states_index  , Pop , ':m' , label = 'Total Population')\n",
    "\n",
    "plt.title('Different Ethnicities State-wise population comparison')\n",
    "plt.xlabel('States alphabetically ordered 1 to 50')\n",
    "plt.ylabel('Population')\n",
    "plt.legend()\n",
    "\n",
    "plt.show()"
   ]
  },
  {
   "cell_type": "code",
   "execution_count": 497,
   "metadata": {},
   "outputs": [
    {
     "data": {
      "text/html": [
       "<div>\n",
       "<style scoped>\n",
       "    .dataframe tbody tr th:only-of-type {\n",
       "        vertical-align: middle;\n",
       "    }\n",
       "\n",
       "    .dataframe tbody tr th {\n",
       "        vertical-align: top;\n",
       "    }\n",
       "\n",
       "    .dataframe thead th {\n",
       "        text-align: right;\n",
       "    }\n",
       "</style>\n",
       "<table border=\"1\" class=\"dataframe\">\n",
       "  <thead>\n",
       "    <tr style=\"text-align: right;\">\n",
       "      <th></th>\n",
       "      <th>State</th>\n",
       "      <th>TotalPop</th>\n",
       "      <th>Hispanic</th>\n",
       "      <th>White</th>\n",
       "      <th>Black</th>\n",
       "      <th>Native</th>\n",
       "      <th>Asian</th>\n",
       "      <th>Pacific</th>\n",
       "      <th>Income</th>\n",
       "      <th>Men</th>\n",
       "      <th>Women</th>\n",
       "    </tr>\n",
       "  </thead>\n",
       "  <tbody>\n",
       "    <tr>\n",
       "      <th>4</th>\n",
       "      <td>California</td>\n",
       "      <td>38421464</td>\n",
       "      <td>1.432808e+07</td>\n",
       "      <td>1.545149e+07</td>\n",
       "      <td>2.181339e+06</td>\n",
       "      <td>155719.143661</td>\n",
       "      <td>5.014859e+06</td>\n",
       "      <td>135017.014343</td>\n",
       "      <td>67264.782303</td>\n",
       "      <td>19087135</td>\n",
       "      <td>19334329.0</td>\n",
       "    </tr>\n",
       "  </tbody>\n",
       "</table>\n",
       "</div>"
      ],
      "text/plain": [
       "        State  TotalPop      Hispanic         White         Black  \\\n",
       "4  California  38421464  1.432808e+07  1.545149e+07  2.181339e+06   \n",
       "\n",
       "          Native         Asian        Pacific        Income       Men  \\\n",
       "4  155719.143661  5.014859e+06  135017.014343  67264.782303  19087135   \n",
       "\n",
       "        Women  \n",
       "4  19334329.0  "
      ]
     },
     "execution_count": 497,
     "metadata": {},
     "output_type": "execute_result"
    }
   ],
   "source": [
    "# Comparing populations of different ethnicities in California\n",
    "\n",
    "California = us_census[States == 'California']\n",
    "California"
   ]
  },
  {
   "cell_type": "code",
   "execution_count": 498,
   "metadata": {},
   "outputs": [
    {
     "data": {
      "image/png": "[encoded data removed]",
      "text/plain": [
       "<Figure size 432x288 with 1 Axes>"
      ]
     },
     "metadata": {
      "needs_background": "light"
     },
     "output_type": "display_data"
    }
   ],
   "source": [
    "Ethnicities = California.columns[2:8]\n",
    "Populations = California.values[:, 2:8].reshape(6,)\n",
    "\n",
    "plt.bar(Ethnicities , Populations)\n",
    "plt.title('Population Comparison of Different Ethnicities')\n",
    "plt.xlabel('Ethnicities')\n",
    "plt.ylabel('Population')\n",
    "\n",
    "plt.show()"
   ]
  },
  {
   "cell_type": "code",
   "execution_count": 499,
   "metadata": {},
   "outputs": [
    {
     "data": {
      "image/png": "[encoded data removed]",
      "text/plain": [
       "<Figure size 432x288 with 1 Axes>"
      ]
     },
     "metadata": {},
     "output_type": "display_data"
    }
   ],
   "source": [
    "# Making a pie chart of california's different ethnicities:\n",
    "\n",
    "plt.pie(Populations, labels = Ethnicities ,autopct='%1.1f%%')\n",
    "plt.title('California Demographic')\n",
    "plt.axis('equal')\n",
    "plt.show()"
   ]
  },
  {
   "cell_type": "code",
   "execution_count": 500,
   "metadata": {},
   "outputs": [],
   "source": [
    "#####-----------------------------------------------------------------------------------------------------------#####"
   ]
  },
  {
   "cell_type": "markdown",
   "metadata": {},
   "source": [
    "# PART 2:"
   ]
  },
  {
   "cell_type": "markdown",
   "metadata": {},
   "source": [
    "## LEARN DATA ANALYSIS WITH PANDAS\n",
    "Petal Power Inventory\n",
    "You’re the lead data analyst for a chain of gardening stores called Petal Power. Help them analyze their inventory!"
   ]
  },
  {
   "cell_type": "markdown",
   "metadata": {},
   "source": [
    "Answer Customer Emails\n",
    "1.\n",
    "Data for all of the locations of Petal Power is in the file inventory.csv. Load the data into a DataFrame called inventory."
   ]
  },
  {
   "cell_type": "code",
   "execution_count": 501,
   "metadata": {},
   "outputs": [],
   "source": [
    "import pandas as pd\n",
    "\n",
    "inventory = pd.read_csv('Assignment/inventory.csv')"
   ]
  },
  {
   "cell_type": "markdown",
   "metadata": {},
   "source": [
    "2.\n",
    "Inspect the first 10 rows of inventory"
   ]
  },
  {
   "cell_type": "code",
   "execution_count": 502,
   "metadata": {},
   "outputs": [
    {
     "data": {
      "text/html": [
       "<div>\n",
       "<style scoped>\n",
       "    .dataframe tbody tr th:only-of-type {\n",
       "        vertical-align: middle;\n",
       "    }\n",
       "\n",
       "    .dataframe tbody tr th {\n",
       "        vertical-align: top;\n",
       "    }\n",
       "\n",
       "    .dataframe thead th {\n",
       "        text-align: right;\n",
       "    }\n",
       "</style>\n",
       "<table border=\"1\" class=\"dataframe\">\n",
       "  <thead>\n",
       "    <tr style=\"text-align: right;\">\n",
       "      <th></th>\n",
       "      <th>location</th>\n",
       "      <th>product_type</th>\n",
       "      <th>product_description</th>\n",
       "      <th>quantity</th>\n",
       "      <th>price</th>\n",
       "    </tr>\n",
       "  </thead>\n",
       "  <tbody>\n",
       "    <tr>\n",
       "      <th>0</th>\n",
       "      <td>Staten Island</td>\n",
       "      <td>seeds</td>\n",
       "      <td>daisy</td>\n",
       "      <td>4</td>\n",
       "      <td>6.99</td>\n",
       "    </tr>\n",
       "    <tr>\n",
       "      <th>1</th>\n",
       "      <td>Staten Island</td>\n",
       "      <td>seeds</td>\n",
       "      <td>calla lily</td>\n",
       "      <td>46</td>\n",
       "      <td>19.99</td>\n",
       "    </tr>\n",
       "    <tr>\n",
       "      <th>2</th>\n",
       "      <td>Staten Island</td>\n",
       "      <td>seeds</td>\n",
       "      <td>tomato</td>\n",
       "      <td>85</td>\n",
       "      <td>13.99</td>\n",
       "    </tr>\n",
       "    <tr>\n",
       "      <th>3</th>\n",
       "      <td>Staten Island</td>\n",
       "      <td>garden tools</td>\n",
       "      <td>rake</td>\n",
       "      <td>4</td>\n",
       "      <td>13.99</td>\n",
       "    </tr>\n",
       "    <tr>\n",
       "      <th>4</th>\n",
       "      <td>Staten Island</td>\n",
       "      <td>garden tools</td>\n",
       "      <td>wheelbarrow</td>\n",
       "      <td>0</td>\n",
       "      <td>89.99</td>\n",
       "    </tr>\n",
       "    <tr>\n",
       "      <th>5</th>\n",
       "      <td>Staten Island</td>\n",
       "      <td>garden tools</td>\n",
       "      <td>spade</td>\n",
       "      <td>93</td>\n",
       "      <td>19.99</td>\n",
       "    </tr>\n",
       "    <tr>\n",
       "      <th>6</th>\n",
       "      <td>Staten Island</td>\n",
       "      <td>pest_control</td>\n",
       "      <td>insect killer</td>\n",
       "      <td>74</td>\n",
       "      <td>12.99</td>\n",
       "    </tr>\n",
       "    <tr>\n",
       "      <th>7</th>\n",
       "      <td>Staten Island</td>\n",
       "      <td>pest_control</td>\n",
       "      <td>weed killer</td>\n",
       "      <td>8</td>\n",
       "      <td>23.99</td>\n",
       "    </tr>\n",
       "    <tr>\n",
       "      <th>8</th>\n",
       "      <td>Staten Island</td>\n",
       "      <td>planter</td>\n",
       "      <td>20 inch terracotta planter</td>\n",
       "      <td>0</td>\n",
       "      <td>17.99</td>\n",
       "    </tr>\n",
       "    <tr>\n",
       "      <th>9</th>\n",
       "      <td>Staten Island</td>\n",
       "      <td>planter</td>\n",
       "      <td>8 inch plastic planter</td>\n",
       "      <td>53</td>\n",
       "      <td>3.99</td>\n",
       "    </tr>\n",
       "  </tbody>\n",
       "</table>\n",
       "</div>"
      ],
      "text/plain": [
       "        location  product_type         product_description  quantity  price\n",
       "0  Staten Island         seeds                       daisy         4   6.99\n",
       "1  Staten Island         seeds                  calla lily        46  19.99\n",
       "2  Staten Island         seeds                      tomato        85  13.99\n",
       "3  Staten Island  garden tools                        rake         4  13.99\n",
       "4  Staten Island  garden tools                 wheelbarrow         0  89.99\n",
       "5  Staten Island  garden tools                       spade        93  19.99\n",
       "6  Staten Island  pest_control               insect killer        74  12.99\n",
       "7  Staten Island  pest_control                 weed killer         8  23.99\n",
       "8  Staten Island       planter  20 inch terracotta planter         0  17.99\n",
       "9  Staten Island       planter      8 inch plastic planter        53   3.99"
      ]
     },
     "execution_count": 502,
     "metadata": {},
     "output_type": "execute_result"
    }
   ],
   "source": [
    "inventory[:10]"
   ]
  },
  {
   "cell_type": "markdown",
   "metadata": {},
   "source": [
    "3.\n",
    "The first 10 rows represent data from your Staten Island location. Select these rows and save them to staten_island."
   ]
  },
  {
   "cell_type": "code",
   "execution_count": 503,
   "metadata": {},
   "outputs": [],
   "source": [
    "staten_island = inventory[:10].copy()"
   ]
  },
  {
   "cell_type": "markdown",
   "metadata": {},
   "source": [
    "4.\n",
    "A customer just emailed you asking what products are sold at your Staten Island location. Select the column product_description from staten_island and save it to the variable product_request."
   ]
  },
  {
   "cell_type": "code",
   "execution_count": 504,
   "metadata": {},
   "outputs": [],
   "source": [
    "product_request = staten_island['product_description']"
   ]
  },
  {
   "cell_type": "markdown",
   "metadata": {},
   "source": [
    "5.\n",
    "Another customer emails to ask what types of seeds are sold at the Brooklyn location.\n",
    "\n",
    "Select all rows where location is equal to Brooklyn and product_type is equal to seeds and save them to the variable seed_request"
   ]
  },
  {
   "cell_type": "code",
   "execution_count": 505,
   "metadata": {},
   "outputs": [],
   "source": [
    "seed_request = inventory[(inventory['location'] == 'Brooklyn')\n",
    "                                 &\n",
    "                          (inventory['product_type'] == 'seeds')]"
   ]
  },
  {
   "cell_type": "markdown",
   "metadata": {},
   "source": [
    "Inventory\n",
    "6.\n",
    "Add a column to inventory called in_stock which is True if quantity is greater than 0 and False if quantity equals 0."
   ]
  },
  {
   "cell_type": "code",
   "execution_count": 506,
   "metadata": {},
   "outputs": [],
   "source": [
    "inventory['in_stock'] = inventory['quantity'] > 0"
   ]
  },
  {
   "cell_type": "markdown",
   "metadata": {},
   "source": [
    "7.\n",
    "Petal Power wants to know how valuable their current inventory is.\n",
    "\n",
    "Create a column called total_value that is equal to price multiplied by quantity."
   ]
  },
  {
   "cell_type": "code",
   "execution_count": 507,
   "metadata": {},
   "outputs": [],
   "source": [
    "inventory['total_value'] = inventory['price']*inventory['quantity']"
   ]
  },
  {
   "cell_type": "markdown",
   "metadata": {},
   "source": [
    "8.\n",
    "The Marketing department wants a complete description of each product for their catalog.\n",
    "\n",
    "The following lambda function combines product_type and product_description into a single string:\n",
    "\n",
    "combine_lambda = lambda row: \\\n",
    "    '{} - {}'.format(row.product_type,\n",
    "                     row.product_description)\n",
    "Paste this function into script.py."
   ]
  },
  {
   "cell_type": "code",
   "execution_count": 508,
   "metadata": {},
   "outputs": [],
   "source": [
    "combine_lambda = lambda row: '{} - {}'.format(row.product_type, row.product_description)\n"
   ]
  },
  {
   "cell_type": "markdown",
   "metadata": {},
   "source": [
    "9.\n",
    "Using combine_lambda, create a new column in inventory called full_description that has the complete description of each product.\n"
   ]
  },
  {
   "cell_type": "code",
   "execution_count": 509,
   "metadata": {},
   "outputs": [],
   "source": [
    "inventory['full_description'] = inventory.apply(combine_lambda, axis = 1)"
   ]
  },
  {
   "cell_type": "code",
   "execution_count": 510,
   "metadata": {},
   "outputs": [],
   "source": [
    "#####------------------------------------------------------------------------------------------------------------------#####"
   ]
  }
 ],
 "metadata": {
  "kernelspec": {
   "display_name": "Python 3",
   "language": "python",
   "name": "python3"
  },
  "language_info": {
   "codemirror_mode": {
    "name": "ipython",
    "version": 3
   },
   "file_extension": ".py",
   "mimetype": "text/x-python",
   "name": "python",
   "nbconvert_exporter": "python",
   "pygments_lexer": "ipython3",
   "version": "3.8.3"
  }
 },
 "nbformat": 4,
 "nbformat_minor": 4
}
